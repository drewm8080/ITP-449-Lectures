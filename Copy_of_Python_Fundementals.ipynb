{
  "nbformat": 4,
  "nbformat_minor": 0,
  "metadata": {
    "colab": {
      "name": "Copy of Python Fundementals",
      "provenance": [],
      "collapsed_sections": [
        "wE758PuwpXX3",
        "Nq2B57Dz7pCF"
      ],
      "toc_visible": true
    },
    "kernelspec": {
      "name": "python3",
      "display_name": "Python 3"
    }
  },
  "cells": [
    {
      "cell_type": "markdown",
      "metadata": {
        "id": "I25Z6LRkUNpp"
      },
      "source": [
        "## Print Statements"
      ]
    },
    {
      "cell_type": "code",
      "metadata": {
        "id": "Q9nzmVyzDfCY",
        "colab": {
          "base_uri": "https://localhost:8080/"
        },
        "outputId": "dbe1b470-dc74-443d-879a-ddd6ff09df44"
      },
      "source": [
        "print(\"Hello World!\")"
      ],
      "execution_count": null,
      "outputs": [
        {
          "output_type": "stream",
          "text": [
            "Hello World!\n"
          ],
          "name": "stdout"
        }
      ]
    },
    {
      "cell_type": "code",
      "metadata": {
        "id": "elHax23kDi8j"
      },
      "source": [
        "print(Hello World!) # notice the error. Why?"
      ],
      "execution_count": null,
      "outputs": []
    },
    {
      "cell_type": "code",
      "metadata": {
        "id": "dvwuFldLD1j3"
      },
      "source": [
        "print(\"Hello World!\")\n",
        "print(\"Where does this line get printed?\")"
      ],
      "execution_count": null,
      "outputs": []
    },
    {
      "cell_type": "code",
      "metadata": {
        "id": "8mekGstEEWTu"
      },
      "source": [
        "print(\"Hello World!\", end=\"***\")\n",
        "print(\"Where does this line get printed?\") # Note - default value of end is newline \"\\n\". "
      ],
      "execution_count": null,
      "outputs": []
    },
    {
      "cell_type": "code",
      "metadata": {
        "id": "q-FJYMG7Eqta"
      },
      "source": [
        "print(\"Hello World!\", end=\" \")\n",
        "print(\"Where does this line get printed?\")"
      ],
      "execution_count": null,
      "outputs": []
    },
    {
      "cell_type": "code",
      "metadata": {
        "id": "dQTdBtO3EyM8"
      },
      "source": [
        "# Concatenate strings inside print statement\n",
        "\n",
        "print(\"Hello\" + \"World!\")\n",
        "print(\"Hello\" , \"World!\")"
      ],
      "execution_count": null,
      "outputs": []
    },
    {
      "cell_type": "markdown",
      "metadata": {
        "id": "Tz3slHxvE_uw"
      },
      "source": [
        "### Exercise:\n",
        "Display the following - \"Python\" comes from a 1970s comedy series"
      ]
    },
    {
      "cell_type": "code",
      "metadata": {
        "id": "etOFbAXaE6lH"
      },
      "source": [
        "# Display the following - \"Python\" comes from a 1970s comedy series -- use of escape character\n",
        "# Type your soultion here"
      ],
      "execution_count": null,
      "outputs": []
    },
    {
      "cell_type": "markdown",
      "metadata": {
        "id": "MRf5iY4aFpzi"
      },
      "source": [
        "## Comments in Python"
      ]
    },
    {
      "cell_type": "code",
      "metadata": {
        "id": "DbeC2poIFtz9"
      },
      "source": [
        "# This is a single line comment\n",
        "\n",
        "\"\"\"\n",
        "This is \n",
        "a multi-line\n",
        "comment!!!\n",
        "\"\"\""
      ],
      "execution_count": null,
      "outputs": []
    },
    {
      "cell_type": "markdown",
      "metadata": {
        "id": "Ridrf3s2Nxzt"
      },
      "source": [
        "## Calculations in Python"
      ]
    },
    {
      "cell_type": "code",
      "metadata": {
        "id": "eY_rzMSzN2QY",
        "colab": {
          "base_uri": "https://localhost:8080/"
        },
        "outputId": "6d24bdfb-50ea-480e-8ff5-9f5dffbb5bc2"
      },
      "source": [
        "# Addition and subtraction\n",
        "print(8 + 5)\n",
        "print(13 - 3)\n",
        "\n",
        "# Multiplication and division\n",
        "print(5 * 4)\n",
        "print(200 / 10)\n",
        "\n",
        "print(7 // 3) # integer division\n",
        "\n",
        "# Modulo and exponentiation\n",
        "print(17 % 3)\n",
        "print(12 ** 4)"
      ],
      "execution_count": null,
      "outputs": [
        {
          "output_type": "stream",
          "text": [
            "13\n",
            "10\n",
            "20\n",
            "20.0\n",
            "2\n",
            "2\n",
            "20736\n"
          ],
          "name": "stdout"
        }
      ]
    },
    {
      "cell_type": "code",
      "metadata": {
        "id": "DO456pZfnPGI",
        "colab": {
          "base_uri": "https://localhost:8080/"
        },
        "outputId": "81824de2-65d8-4b2d-a7a6-d250dbc3fe1b"
      },
      "source": [
        "cost = 100\n",
        "salesTax = 0.095\n",
        "tax = cost * salesTax\n",
        "discount = 0.20\n",
        "\n",
        "print((cost + tax) * discount)\n",
        "print(cost + tax * discount)\n",
        "\n",
        "# notice the difference in the result based on position of paratheses"
      ],
      "execution_count": null,
      "outputs": [
        {
          "output_type": "stream",
          "text": [
            "21.900000000000002\n",
            "101.9\n"
          ],
          "name": "stdout"
        }
      ]
    },
    {
      "cell_type": "markdown",
      "metadata": {
        "id": "A1r6wTiLGUu1"
      },
      "source": [
        "## Variables"
      ]
    },
    {
      "cell_type": "code",
      "metadata": {
        "id": "K1eyt8w1GWDK",
        "colab": {
          "base_uri": "https://localhost:8080/"
        },
        "outputId": "cee62898-4c16-4fef-bfb4-ed7670c8a186"
      },
      "source": [
        "# variable assignment and printing\n",
        "\n",
        "age = 10\n",
        "name = \"Sophie\"\n",
        "amount = 100.20\n",
        "isItSunny = True\n",
        "\n",
        "print(age)\n",
        "print(name)\n",
        "print(amount)\n",
        "print(isItSunny)"
      ],
      "execution_count": null,
      "outputs": [
        {
          "output_type": "stream",
          "text": [
            "10\n",
            "Sophie\n",
            "100.2\n",
            "True\n"
          ],
          "name": "stdout"
        }
      ]
    },
    {
      "cell_type": "code",
      "metadata": {
        "id": "YMYyrM5dLUra"
      },
      "source": [
        "# calculations with variables\n",
        "\n",
        "# area of cylinder\n",
        "\n",
        "pi = 3.14\n",
        "radius = 5\n",
        "area = pi * (radius ** 2)"
      ],
      "execution_count": null,
      "outputs": []
    },
    {
      "cell_type": "code",
      "metadata": {
        "id": "6K0HKkECLVAU"
      },
      "source": [
        "# string concatenation\n",
        "\n",
        "language = \"Python\"\n",
        "message = \"I love programming in\" + language\n",
        "\n",
        "print(message)"
      ],
      "execution_count": null,
      "outputs": []
    },
    {
      "cell_type": "code",
      "metadata": {
        "id": "n48AjOxKLYs_"
      },
      "source": [
        "# string methods\n",
        "\n",
        "lastName = \"Steinbeck\"\n",
        "print(lastName.upper())\n",
        "print(lastName.lower())"
      ],
      "execution_count": null,
      "outputs": []
    },
    {
      "cell_type": "markdown",
      "metadata": {
        "id": "7wklQ8slL3ai"
      },
      "source": [
        "### Exercise:\n",
        " Convert the value of fname to upper case and value of sname to lower case.\n",
        "  Concatenate the converted names and print it."
      ]
    },
    {
      "cell_type": "code",
      "metadata": {
        "id": "CBzle0zaZVBe",
        "colab": {
          "base_uri": "https://localhost:8080/"
        },
        "outputId": "b667a425-066d-47d9-ab0c-a2cd998f9c1f"
      },
      "source": [
        "fname = \"Karl\"\n",
        "sname = \"John\" \n",
        "# Type your soultion here (Output - KARL john)\n",
        "print(fname.upper(), sname.lower())"
      ],
      "execution_count": null,
      "outputs": [
        {
          "output_type": "stream",
          "text": [
            "KARL john\n"
          ],
          "name": "stdout"
        }
      ]
    },
    {
      "cell_type": "markdown",
      "metadata": {
        "id": "FJ49_PTmZJUM"
      },
      "source": [
        "### Exercise:\n",
        " Calculate the volume of a sphere with radius 4. Take pi = 3.14"
      ]
    },
    {
      "cell_type": "code",
      "metadata": {
        "id": "sHdajsP3LfDY"
      },
      "source": [
        "# Type your soultion here"
      ],
      "execution_count": null,
      "outputs": []
    },
    {
      "cell_type": "markdown",
      "metadata": {
        "id": "hBqPwplgPYyJ"
      },
      "source": [
        "## Variable Types and type conversion"
      ]
    },
    {
      "cell_type": "code",
      "metadata": {
        "id": "0kVV9j_TPX-K",
        "colab": {
          "base_uri": "https://localhost:8080/"
        },
        "outputId": "1a9b56bd-bb98-4c87-e8b2-654e20256075"
      },
      "source": [
        "age = 10\n",
        "name = \"Sophie\"\n",
        "amount = 100.20\n",
        "isItSunny = True\n",
        "\n",
        "print(type(age))\n",
        "print(type(name))\n",
        "print(type(amount))\n",
        "print(type(isItSunny))"
      ],
      "execution_count": null,
      "outputs": [
        {
          "output_type": "stream",
          "text": [
            "<class 'int'>\n",
            "<class 'str'>\n",
            "<class 'float'>\n",
            "<class 'bool'>\n"
          ],
          "name": "stdout"
        }
      ]
    },
    {
      "cell_type": "code",
      "metadata": {
        "id": "8-V39deAjizg"
      },
      "source": [
        "# operations with different variable types\n",
        "\n",
        "num1 = 500\n",
        "num2 = 2.0\n",
        "\n",
        "result = num1 * num2 # what is the type of result?\n",
        "# print(type(result))"
      ],
      "execution_count": null,
      "outputs": []
    },
    {
      "cell_type": "code",
      "metadata": {
        "id": "c8RXr0-okA6N",
        "colab": {
          "base_uri": "https://localhost:8080/"
        },
        "outputId": "51828287-cddd-4c5e-dbcd-e199c29953bd"
      },
      "source": [
        "string1 = \"hello\"\n",
        "string2 = string1 + string1\n",
        "print(string2)"
      ],
      "execution_count": null,
      "outputs": [
        {
          "output_type": "stream",
          "text": [
            "hellohello\n"
          ],
          "name": "stdout"
        }
      ]
    },
    {
      "cell_type": "markdown",
      "metadata": {
        "id": "IWkhun28QQAT"
      },
      "source": [
        "### Exercise:\n",
        " Type conversion"
      ]
    },
    {
      "cell_type": "code",
      "metadata": {
        "id": "q6B-5cOsQPqy",
        "colab": {
          "base_uri": "https://localhost:8080/"
        },
        "outputId": "7c5d44a2-4315-4a84-9e20-0c400e15a491"
      },
      "source": [
        "# convert value into float.\n",
        "value = 1200\n",
        "# Type your soultion here\n",
        "float(value)"
      ],
      "execution_count": null,
      "outputs": [
        {
          "output_type": "execute_result",
          "data": {
            "text/plain": [
              "1200.0"
            ]
          },
          "metadata": {
            "tags": []
          },
          "execution_count": 10
        }
      ]
    },
    {
      "cell_type": "markdown",
      "metadata": {
        "id": "DgxwiscgluEp"
      },
      "source": [
        "## Reading input"
      ]
    },
    {
      "cell_type": "code",
      "metadata": {
        "id": "dg3nO-dplyHo",
        "colab": {
          "base_uri": "https://localhost:8080/"
        },
        "outputId": "30a2630c-1414-4e31-d58c-9c634fe5a4a9"
      },
      "source": [
        "name = input(\"Please enter your name \")\n",
        "print(\"Hi\", name)"
      ],
      "execution_count": null,
      "outputs": [
        {
          "output_type": "stream",
          "text": [
            "Please enter your name Andrew\n",
            "Hi Andrew\n"
          ],
          "name": "stdout"
        }
      ]
    },
    {
      "cell_type": "markdown",
      "metadata": {
        "id": "4FCrDqcOmD7k"
      },
      "source": [
        "### Exercise:\n",
        " Read 2 numbers from input. Store them in separate variables. Find the sum of the 2 variables"
      ]
    },
    {
      "cell_type": "code",
      "metadata": {
        "id": "CwjaaluhmDLP"
      },
      "source": [
        "# Type your soultion here\n"
      ],
      "execution_count": null,
      "outputs": []
    },
    {
      "cell_type": "markdown",
      "metadata": {
        "id": "g0ubkbfEn8Up"
      },
      "source": [
        "## Branching"
      ]
    },
    {
      "cell_type": "markdown",
      "metadata": {
        "id": "XdnFEkq3oC1_"
      },
      "source": [
        "### if-else statements"
      ]
    },
    {
      "cell_type": "code",
      "metadata": {
        "id": "vTBIIVEhn9d3"
      },
      "source": [
        "password = input(\"Enter your password\")\n",
        "\n",
        "if password == \"secret\":\n",
        "  print(\"Access granted\")\n",
        "else:\n",
        "  print(\"Access denied\")"
      ],
      "execution_count": null,
      "outputs": []
    },
    {
      "cell_type": "markdown",
      "metadata": {
        "id": "IvNumQMkoXvk"
      },
      "source": [
        "### Exercise:\n",
        " Get the age of a person from input and display a message that states whether the person can vote or not."
      ]
    },
    {
      "cell_type": "code",
      "metadata": {
        "id": "c6AbIp_Do1V0",
        "colab": {
          "base_uri": "https://localhost:8080/"
        },
        "outputId": "7c868cb1-e59d-4795-e9e9-fab9ebd0bccf"
      },
      "source": [
        "# Type your soultion here\n",
        "\n",
        "age = int(input('Can you vote?'))\n",
        "if age < 18:\n",
        "  print('no')\n",
        "else:\n",
        "  print('yes')"
      ],
      "execution_count": null,
      "outputs": [
        {
          "output_type": "stream",
          "text": [
            "Can you vote?18\n",
            "yes\n"
          ],
          "name": "stdout"
        }
      ]
    },
    {
      "cell_type": "markdown",
      "metadata": {
        "id": "wE758PuwpXX3"
      },
      "source": [
        "### Blocks"
      ]
    },
    {
      "cell_type": "markdown",
      "metadata": {
        "id": "-Nsn0h3xpi2X"
      },
      "source": [
        "### Exercise:\n",
        " Get the age of a person from input and display a message that states that the person can vote if they are over 18. If not display a message that states that the person can't vote if they are under 18. Also calculate and display the number of years remaining until they can vote in this case."
      ]
    },
    {
      "cell_type": "code",
      "metadata": {
        "id": "GqxXQZCbpdCI"
      },
      "source": [
        "# Type your soultion here"
      ],
      "execution_count": null,
      "outputs": []
    },
    {
      "cell_type": "markdown",
      "metadata": {
        "id": "xlzmmrMD5eeZ"
      },
      "source": [
        "### if-elif statements"
      ]
    },
    {
      "cell_type": "code",
      "metadata": {
        "id": "3HK8Okn9qpp0",
        "colab": {
          "base_uri": "https://localhost:8080/"
        },
        "outputId": "f64cedb7-2066-4917-92ba-c457dc9faf8f"
      },
      "source": [
        "midtermScore = int(input(\"Enter your midterm score\"))\n",
        "\n",
        "if midtermScore >= 90:\n",
        "  grade = 'A'\n",
        "elif midtermScore >= 80:\n",
        "  grade = 'B'\n",
        "elif midtermScore >= 70:\n",
        "  grade = 'C'\n",
        "elif midtermScore >= 60:\n",
        "  grade = 'D'\n",
        "else:\n",
        "  grade = 'F'\n",
        "\n",
        "print(grade)"
      ],
      "execution_count": null,
      "outputs": [
        {
          "output_type": "stream",
          "text": [
            "Enter your midterm score65\n",
            "D\n"
          ],
          "name": "stdout"
        }
      ]
    },
    {
      "cell_type": "markdown",
      "metadata": {
        "id": "LsdD2r5j6eph"
      },
      "source": [
        "### Conditions in if-else"
      ]
    },
    {
      "cell_type": "code",
      "metadata": {
        "id": "RtqFIDtA6d9d"
      },
      "source": [
        "mystery = \"chicken\"\n",
        "\n",
        "if mystery: # this works equivalent to the condition if mystery == True:\n",
        "  print(mystery, \"is True\") "
      ],
      "execution_count": null,
      "outputs": []
    },
    {
      "cell_type": "code",
      "metadata": {
        "id": "Txqb68Rw61KK"
      },
      "source": [
        "mystery = 0\n",
        "\n",
        "if mystery: # equivalent to if mystery == 1:\n",
        "  print(mystery, \"is True\")\n",
        "else:\n",
        "  print(mystery, \"is False\") "
      ],
      "execution_count": null,
      "outputs": []
    },
    {
      "cell_type": "code",
      "metadata": {
        "id": "9eSQcFrq7IRC"
      },
      "source": [
        "x = False\n",
        "\n",
        "if x:\n",
        "  print(\"x is True\")\n",
        "else:\n",
        "  print(\"x is False\")\n",
        "\n",
        "y = \"False\"\n",
        "\n",
        "if y:\n",
        "  print(\"y is True\")\n",
        "else:\n",
        "  print(\"y is False\")\n",
        "\n",
        "# Notice that the results are different in both the cases. Why?"
      ],
      "execution_count": null,
      "outputs": []
    },
    {
      "cell_type": "markdown",
      "metadata": {
        "id": "Nq2B57Dz7pCF"
      },
      "source": [
        "### Compound conditions in if-else"
      ]
    },
    {
      "cell_type": "markdown",
      "metadata": {
        "id": "fJ1oe79W7wBT"
      },
      "source": [
        "### Exercise:\n",
        " Pick a number between 1 and 10 and display is number is even or odd. Also, display an error message if number is less than 1 or greater than 10"
      ]
    },
    {
      "cell_type": "code",
      "metadata": {
        "id": "noKeCFZw7tGX",
        "colab": {
          "base_uri": "https://localhost:8080/"
        },
        "outputId": "5256de19-00ee-47f3-c505-cbc4f258a07a"
      },
      "source": [
        "# Type your soultion here\n",
        "list1 = [1,2,3,4,5,6,7,8,9,10]\n",
        "number = int(input('Pick a number 1-10: '))\n",
        "if number in list1:\n",
        "  if number %2 == 0:\n",
        "    print('number is even')\n",
        "  elif number %2 != 0:\n",
        "    print('number is odd')\n",
        "else:\n",
        "  print('ERROR')"
      ],
      "execution_count": null,
      "outputs": [
        {
          "output_type": "stream",
          "text": [
            "Pick a number 1-10: 10\n",
            "number is even\n"
          ],
          "name": "stdout"
        }
      ]
    },
    {
      "cell_type": "markdown",
      "metadata": {
        "id": "oA5YZUxi8Znb"
      },
      "source": [
        "## Loops"
      ]
    },
    {
      "cell_type": "markdown",
      "metadata": {
        "id": "sjQbVjCA8a26"
      },
      "source": [
        "### While loop"
      ]
    },
    {
      "cell_type": "code",
      "metadata": {
        "id": "jVxeY3Uh9vK7",
        "colab": {
          "base_uri": "https://localhost:8080/"
        },
        "outputId": "2f69ef31-1cd6-4d6b-c884-3b1ff1c10f17"
      },
      "source": [
        "numBottles = 99\n",
        "\n",
        "while numBottles > 0:\n",
        "  print(numBottles, \"bottles of cold brew coffee on the wall\")\n",
        "  print(\"Take one down and pass it around\")\n",
        "  numBottles = numBottles - 1\n",
        "\n",
        "print(\"Cold brew coffee is all gone\")\n",
        "\n",
        "# how many bottles left in the end?"
      ],
      "execution_count": null,
      "outputs": [
        {
          "output_type": "stream",
          "text": [
            "99 bottles of cold brew coffee on the wall\n",
            "Take one down and pass it around\n",
            "98 bottles of cold brew coffee on the wall\n",
            "Take one down and pass it around\n",
            "97 bottles of cold brew coffee on the wall\n",
            "Take one down and pass it around\n",
            "96 bottles of cold brew coffee on the wall\n",
            "Take one down and pass it around\n",
            "95 bottles of cold brew coffee on the wall\n",
            "Take one down and pass it around\n",
            "94 bottles of cold brew coffee on the wall\n",
            "Take one down and pass it around\n",
            "93 bottles of cold brew coffee on the wall\n",
            "Take one down and pass it around\n",
            "92 bottles of cold brew coffee on the wall\n",
            "Take one down and pass it around\n",
            "91 bottles of cold brew coffee on the wall\n",
            "Take one down and pass it around\n",
            "90 bottles of cold brew coffee on the wall\n",
            "Take one down and pass it around\n",
            "89 bottles of cold brew coffee on the wall\n",
            "Take one down and pass it around\n",
            "88 bottles of cold brew coffee on the wall\n",
            "Take one down and pass it around\n",
            "87 bottles of cold brew coffee on the wall\n",
            "Take one down and pass it around\n",
            "86 bottles of cold brew coffee on the wall\n",
            "Take one down and pass it around\n",
            "85 bottles of cold brew coffee on the wall\n",
            "Take one down and pass it around\n",
            "84 bottles of cold brew coffee on the wall\n",
            "Take one down and pass it around\n",
            "83 bottles of cold brew coffee on the wall\n",
            "Take one down and pass it around\n",
            "82 bottles of cold brew coffee on the wall\n",
            "Take one down and pass it around\n",
            "81 bottles of cold brew coffee on the wall\n",
            "Take one down and pass it around\n",
            "80 bottles of cold brew coffee on the wall\n",
            "Take one down and pass it around\n",
            "79 bottles of cold brew coffee on the wall\n",
            "Take one down and pass it around\n",
            "78 bottles of cold brew coffee on the wall\n",
            "Take one down and pass it around\n",
            "77 bottles of cold brew coffee on the wall\n",
            "Take one down and pass it around\n",
            "76 bottles of cold brew coffee on the wall\n",
            "Take one down and pass it around\n",
            "75 bottles of cold brew coffee on the wall\n",
            "Take one down and pass it around\n",
            "74 bottles of cold brew coffee on the wall\n",
            "Take one down and pass it around\n",
            "73 bottles of cold brew coffee on the wall\n",
            "Take one down and pass it around\n",
            "72 bottles of cold brew coffee on the wall\n",
            "Take one down and pass it around\n",
            "71 bottles of cold brew coffee on the wall\n",
            "Take one down and pass it around\n",
            "70 bottles of cold brew coffee on the wall\n",
            "Take one down and pass it around\n",
            "69 bottles of cold brew coffee on the wall\n",
            "Take one down and pass it around\n",
            "68 bottles of cold brew coffee on the wall\n",
            "Take one down and pass it around\n",
            "67 bottles of cold brew coffee on the wall\n",
            "Take one down and pass it around\n",
            "66 bottles of cold brew coffee on the wall\n",
            "Take one down and pass it around\n",
            "65 bottles of cold brew coffee on the wall\n",
            "Take one down and pass it around\n",
            "64 bottles of cold brew coffee on the wall\n",
            "Take one down and pass it around\n",
            "63 bottles of cold brew coffee on the wall\n",
            "Take one down and pass it around\n",
            "62 bottles of cold brew coffee on the wall\n",
            "Take one down and pass it around\n",
            "61 bottles of cold brew coffee on the wall\n",
            "Take one down and pass it around\n",
            "60 bottles of cold brew coffee on the wall\n",
            "Take one down and pass it around\n",
            "59 bottles of cold brew coffee on the wall\n",
            "Take one down and pass it around\n",
            "58 bottles of cold brew coffee on the wall\n",
            "Take one down and pass it around\n",
            "57 bottles of cold brew coffee on the wall\n",
            "Take one down and pass it around\n",
            "56 bottles of cold brew coffee on the wall\n",
            "Take one down and pass it around\n",
            "55 bottles of cold brew coffee on the wall\n",
            "Take one down and pass it around\n",
            "54 bottles of cold brew coffee on the wall\n",
            "Take one down and pass it around\n",
            "53 bottles of cold brew coffee on the wall\n",
            "Take one down and pass it around\n",
            "52 bottles of cold brew coffee on the wall\n",
            "Take one down and pass it around\n",
            "51 bottles of cold brew coffee on the wall\n",
            "Take one down and pass it around\n",
            "50 bottles of cold brew coffee on the wall\n",
            "Take one down and pass it around\n",
            "49 bottles of cold brew coffee on the wall\n",
            "Take one down and pass it around\n",
            "48 bottles of cold brew coffee on the wall\n",
            "Take one down and pass it around\n",
            "47 bottles of cold brew coffee on the wall\n",
            "Take one down and pass it around\n",
            "46 bottles of cold brew coffee on the wall\n",
            "Take one down and pass it around\n",
            "45 bottles of cold brew coffee on the wall\n",
            "Take one down and pass it around\n",
            "44 bottles of cold brew coffee on the wall\n",
            "Take one down and pass it around\n",
            "43 bottles of cold brew coffee on the wall\n",
            "Take one down and pass it around\n",
            "42 bottles of cold brew coffee on the wall\n",
            "Take one down and pass it around\n",
            "41 bottles of cold brew coffee on the wall\n",
            "Take one down and pass it around\n",
            "40 bottles of cold brew coffee on the wall\n",
            "Take one down and pass it around\n",
            "39 bottles of cold brew coffee on the wall\n",
            "Take one down and pass it around\n",
            "38 bottles of cold brew coffee on the wall\n",
            "Take one down and pass it around\n",
            "37 bottles of cold brew coffee on the wall\n",
            "Take one down and pass it around\n",
            "36 bottles of cold brew coffee on the wall\n",
            "Take one down and pass it around\n",
            "35 bottles of cold brew coffee on the wall\n",
            "Take one down and pass it around\n",
            "34 bottles of cold brew coffee on the wall\n",
            "Take one down and pass it around\n",
            "33 bottles of cold brew coffee on the wall\n",
            "Take one down and pass it around\n",
            "32 bottles of cold brew coffee on the wall\n",
            "Take one down and pass it around\n",
            "31 bottles of cold brew coffee on the wall\n",
            "Take one down and pass it around\n",
            "30 bottles of cold brew coffee on the wall\n",
            "Take one down and pass it around\n",
            "29 bottles of cold brew coffee on the wall\n",
            "Take one down and pass it around\n",
            "28 bottles of cold brew coffee on the wall\n",
            "Take one down and pass it around\n",
            "27 bottles of cold brew coffee on the wall\n",
            "Take one down and pass it around\n",
            "26 bottles of cold brew coffee on the wall\n",
            "Take one down and pass it around\n",
            "25 bottles of cold brew coffee on the wall\n",
            "Take one down and pass it around\n",
            "24 bottles of cold brew coffee on the wall\n",
            "Take one down and pass it around\n",
            "23 bottles of cold brew coffee on the wall\n",
            "Take one down and pass it around\n",
            "22 bottles of cold brew coffee on the wall\n",
            "Take one down and pass it around\n",
            "21 bottles of cold brew coffee on the wall\n",
            "Take one down and pass it around\n",
            "20 bottles of cold brew coffee on the wall\n",
            "Take one down and pass it around\n",
            "19 bottles of cold brew coffee on the wall\n",
            "Take one down and pass it around\n",
            "18 bottles of cold brew coffee on the wall\n",
            "Take one down and pass it around\n",
            "17 bottles of cold brew coffee on the wall\n",
            "Take one down and pass it around\n",
            "16 bottles of cold brew coffee on the wall\n",
            "Take one down and pass it around\n",
            "15 bottles of cold brew coffee on the wall\n",
            "Take one down and pass it around\n",
            "14 bottles of cold brew coffee on the wall\n",
            "Take one down and pass it around\n",
            "13 bottles of cold brew coffee on the wall\n",
            "Take one down and pass it around\n",
            "12 bottles of cold brew coffee on the wall\n",
            "Take one down and pass it around\n",
            "11 bottles of cold brew coffee on the wall\n",
            "Take one down and pass it around\n",
            "10 bottles of cold brew coffee on the wall\n",
            "Take one down and pass it around\n",
            "9 bottles of cold brew coffee on the wall\n",
            "Take one down and pass it around\n",
            "8 bottles of cold brew coffee on the wall\n",
            "Take one down and pass it around\n",
            "7 bottles of cold brew coffee on the wall\n",
            "Take one down and pass it around\n",
            "6 bottles of cold brew coffee on the wall\n",
            "Take one down and pass it around\n",
            "5 bottles of cold brew coffee on the wall\n",
            "Take one down and pass it around\n",
            "4 bottles of cold brew coffee on the wall\n",
            "Take one down and pass it around\n",
            "3 bottles of cold brew coffee on the wall\n",
            "Take one down and pass it around\n",
            "2 bottles of cold brew coffee on the wall\n",
            "Take one down and pass it around\n",
            "1 bottles of cold brew coffee on the wall\n",
            "Take one down and pass it around\n",
            "Cold brew coffee is all gone\n"
          ],
          "name": "stdout"
        }
      ]
    },
    {
      "cell_type": "code",
      "metadata": {
        "id": "PiCC8Kw5HKD-",
        "colab": {
          "base_uri": "https://localhost:8080/"
        },
        "outputId": "6f5d4cbb-2a0a-4de8-f363-f1de132dbd16"
      },
      "source": [
        "\n",
        "S = 0\n",
        "areMore = True\n",
        "\n",
        "print(\"Enter positive numbers or type -1 to exit\")\n",
        "while areMore:\n",
        "  nextNum = int(input(\"Enter a number\"))\n",
        "  if nextNum < 0:\n",
        "    areMore = False\n",
        "  else:\n",
        "    S = S + nextNum\n",
        "print(\"The sum is\", S)"
      ],
      "execution_count": null,
      "outputs": [
        {
          "output_type": "stream",
          "text": [
            "Enter positive numbers or type -1 to exit\n",
            "Enter a number1\n",
            "Enter a number2\n",
            "Enter a number43\n",
            "Enter a number-1\n",
            "The sum is 46\n"
          ],
          "name": "stdout"
        }
      ]
    },
    {
      "cell_type": "markdown",
      "metadata": {
        "id": "6hQ2XDtX-m80"
      },
      "source": [
        "### Exercise: \n",
        "\n",
        "Print i as long as i is less than 6."
      ]
    },
    {
      "cell_type": "code",
      "metadata": {
        "id": "thRFmhy-_gFG",
        "colab": {
          "base_uri": "https://localhost:8080/"
        },
        "outputId": "78a4f5b2-0619-41dc-f3a6-0641c53dcb1d"
      },
      "source": [
        "i = 1\n",
        "# Type your soultion here\n",
        "while i < 6:\n",
        "  i = i+1\n",
        "  print(i)"
      ],
      "execution_count": null,
      "outputs": [
        {
          "output_type": "stream",
          "text": [
            "2\n",
            "3\n",
            "4\n",
            "5\n",
            "6\n"
          ],
          "name": "stdout"
        }
      ]
    },
    {
      "cell_type": "markdown",
      "metadata": {
        "id": "85JcCN4TfG3a"
      },
      "source": [
        "### Exercise: Write code to get the following output:\n",
        "\n",
        "          Do you want cream (y/n)?: x\n",
        "          Do you want cream (y/n)?: z\n",
        "          Do you want cream (y/n)?: y\n",
        "          Here's your coffee with cream\n",
        "          Do you want cream (y/n)?: n\n",
        "          Here's your coffee without cream"
      ]
    },
    {
      "cell_type": "code",
      "metadata": {
        "id": "WAGtbUtmANaR",
        "colab": {
          "base_uri": "https://localhost:8080/"
        },
        "outputId": "a194d5ca-8187-42ac-88f9-88f133fcec7f"
      },
      "source": [
        "# Type your soultion here\n",
        "userinput = str(input('Do you want creme? (y/n) '))\n",
        "list1 = ['y','n']\n",
        "while userinput.lower() not in list1:\n",
        "  userinput = str(input('Do you want creme? (y/n) '))\n",
        "if userinput.lower() == 'n':\n",
        "  print('Heres your coffee without cream')\n",
        "elif userinput.lower() == 'y':\n",
        "  print('Heres your coffee with cream')\n",
        "\n",
        "# how long does this program run?"
      ],
      "execution_count": null,
      "outputs": [
        {
          "output_type": "stream",
          "text": [
            "Do you want creme? (y/n) q\n",
            "Do you want creme? (y/n) q\n",
            "Do you want creme? (y/n) ds\n",
            "Do you want creme? (y/n) d\n",
            "Do you want creme? (y/n) n\n",
            "Heres your coffee without cream\n"
          ],
          "name": "stdout"
        }
      ]
    },
    {
      "cell_type": "markdown",
      "metadata": {
        "id": "L4vqx-eCIICV"
      },
      "source": [
        "### For loop and range function"
      ]
    },
    {
      "cell_type": "code",
      "metadata": {
        "id": "YWBF1zSsIKrE",
        "colab": {
          "base_uri": "https://localhost:8080/"
        },
        "outputId": "441fdeb9-b3a5-43c4-8ca4-feebd20ffa42"
      },
      "source": [
        "for num in range(3):\n",
        "  print(num)\n",
        "print(\"Done\")"
      ],
      "execution_count": null,
      "outputs": [
        {
          "output_type": "stream",
          "text": [
            "0\n",
            "1\n",
            "2\n",
            "Done\n"
          ],
          "name": "stdout"
        }
      ]
    },
    {
      "cell_type": "code",
      "metadata": {
        "id": "Zi-bzUobIPvb",
        "colab": {
          "base_uri": "https://localhost:8080/"
        },
        "outputId": "2bf4acd6-8292-4022-b23a-4a87361e08a5"
      },
      "source": [
        "for num in range(3):\n",
        "  print(num + 2)\n",
        "print(\"Done\")"
      ],
      "execution_count": null,
      "outputs": [
        {
          "output_type": "stream",
          "text": [
            "2\n",
            "3\n",
            "4\n",
            "Done\n"
          ],
          "name": "stdout"
        }
      ]
    },
    {
      "cell_type": "code",
      "metadata": {
        "id": "gmd2gkEMIYSB",
        "colab": {
          "base_uri": "https://localhost:8080/"
        },
        "outputId": "4c1a0a1d-6244-4e16-d29c-9d8b02f03e91"
      },
      "source": [
        "msg = \"learning\"\n",
        "\n",
        "for letter in msg:\n",
        "  print(letter.upper(), end=\" \")"
      ],
      "execution_count": null,
      "outputs": [
        {
          "output_type": "stream",
          "text": [
            "L E A R N I N G "
          ],
          "name": "stdout"
        }
      ]
    },
    {
      "cell_type": "code",
      "metadata": {
        "id": "POaHJngJjbVo",
        "colab": {
          "base_uri": "https://localhost:8080/"
        },
        "outputId": "e59193d0-f191-4be7-9e6b-c019afddfefd"
      },
      "source": [
        "# Program to print even number using step size in range().\n",
        "\n",
        "n = int(input(\"Enter the number \"))  \n",
        "for i in range(2,n,2):  \n",
        "    print(i)  "
      ],
      "execution_count": null,
      "outputs": [
        {
          "output_type": "stream",
          "text": [
            "Enter the number 4\n",
            "2\n"
          ],
          "name": "stdout"
        }
      ]
    },
    {
      "cell_type": "markdown",
      "metadata": {
        "id": "9xT0HCWei9T_"
      },
      "source": [
        "### Exercise: \n",
        "\n",
        "Use for loop to print table of 5."
      ]
    },
    {
      "cell_type": "code",
      "metadata": {
        "id": "X5pTSLDri9UD"
      },
      "source": [
        "# Type your soultion here\n"
      ],
      "execution_count": null,
      "outputs": []
    },
    {
      "cell_type": "markdown",
      "metadata": {
        "id": "-jcae-Ej0Ct_"
      },
      "source": [
        "## Functions\n",
        "\n",
        "Method - a function which is part of a class. You access it with an instance or object of the class.\n",
        "\n",
        "Function - standalone function. \n",
        "\n",
        "All methods are functions, but not all functions are methods."
      ]
    },
    {
      "cell_type": "code",
      "metadata": {
        "id": "ZOiX_Cv90Oj5"
      },
      "source": [
        "# Function creation/definition - User-defined functions\n",
        "\n",
        "def plus(a,b):\n",
        "  return a + b"
      ],
      "execution_count": null,
      "outputs": []
    },
    {
      "cell_type": "code",
      "metadata": {
        "id": "TKnxjX7e1c7W"
      },
      "source": [
        "# method\n",
        "\n",
        "class Summation(object):\n",
        "  def sum(self, a, b):\n",
        "    self.contents = a + b\n",
        "    return self.contents \n",
        "\n",
        "# Here Summation is the class and sum is the method of the class"
      ],
      "execution_count": null,
      "outputs": []
    },
    {
      "cell_type": "code",
      "metadata": {
        "id": "eHCI_Nes1s2t",
        "colab": {
          "base_uri": "https://localhost:8080/"
        },
        "outputId": "94be671b-a649-418e-c211-f7c2dd6af948"
      },
      "source": [
        "# to use method sum, instantiate Summation and then use the method\n",
        "\n",
        "sumInstance = Summation()\n",
        "sumInstance.sum(1,2)"
      ],
      "execution_count": null,
      "outputs": [
        {
          "output_type": "execute_result",
          "data": {
            "text/plain": [
              "3"
            ]
          },
          "metadata": {
            "tags": []
          },
          "execution_count": 52
        }
      ]
    },
    {
      "cell_type": "code",
      "metadata": {
        "id": "9yBW2ld01z2S",
        "colab": {
          "base_uri": "https://localhost:8080/"
        },
        "outputId": "d50a486b-c576-4bc5-8fb6-b27fa42d24d4"
      },
      "source": [
        "# to call the plus() function\n",
        "\n",
        "plus(1, 2)"
      ],
      "execution_count": null,
      "outputs": [
        {
          "output_type": "execute_result",
          "data": {
            "text/plain": [
              "3"
            ]
          },
          "metadata": {
            "tags": []
          },
          "execution_count": 53
        }
      ]
    },
    {
      "cell_type": "markdown",
      "metadata": {
        "id": "uB_irCfK5R3-"
      },
      "source": [
        "### Return from function"
      ]
    },
    {
      "cell_type": "code",
      "metadata": {
        "id": "s1ViCS1B2GZb"
      },
      "source": [
        "def hello():\n",
        "  print(\"Hello World\") \n",
        "  return \n",
        "\n",
        "# pass any parameters within paratheses()\n",
        "# functions may have a return statement - if nothing passed - None is returned\n",
        "\n",
        "# above function can be written as\n",
        "def hello():\n",
        "  print(\"Hello World\") "
      ],
      "execution_count": null,
      "outputs": []
    },
    {
      "cell_type": "code",
      "metadata": {
        "id": "0U4xD6c63fgh",
        "colab": {
          "base_uri": "https://localhost:8080/"
        },
        "outputId": "239f5e23-e702-43fa-fbdc-ee7706586f47"
      },
      "source": [
        "def anotherFunction():\n",
        "  name = str(input(\"Enter your name: \"))\n",
        "  if name:\n",
        "    print (\"Hello \" + str(name))\n",
        "  else:\n",
        "    print(\"Hello World\") \n",
        "  return \n",
        "  \n",
        "anotherFunction()"
      ],
      "execution_count": null,
      "outputs": [
        {
          "output_type": "stream",
          "text": [
            "Enter your name: Andrew\n",
            "Hello Andrew\n"
          ],
          "name": "stdout"
        }
      ]
    },
    {
      "cell_type": "code",
      "metadata": {
        "id": "fX2ghKNo38tK"
      },
      "source": [
        "def hello():\n",
        "  print(\"Hello World\") \n",
        "  return(\"hello\")\n",
        "\n",
        "def hello_noreturn():\n",
        "  print(\"Hello World\")"
      ],
      "execution_count": null,
      "outputs": []
    },
    {
      "cell_type": "code",
      "metadata": {
        "id": "LwOwpDgx3_xv",
        "colab": {
          "base_uri": "https://localhost:8080/",
          "height": 52
        },
        "outputId": "2f1c9694-ae05-4ce0-a59d-91a0e4b6aeea"
      },
      "source": [
        "# Multiply the output of 'hello()' with 2 \n",
        "hello() * 2"
      ],
      "execution_count": null,
      "outputs": [
        {
          "output_type": "stream",
          "text": [
            "Hello World\n"
          ],
          "name": "stdout"
        },
        {
          "output_type": "execute_result",
          "data": {
            "application/vnd.google.colaboratory.intrinsic+json": {
              "type": "string"
            },
            "text/plain": [
              "'hellohello'"
            ]
          },
          "metadata": {
            "tags": []
          },
          "execution_count": 57
        }
      ]
    },
    {
      "cell_type": "code",
      "metadata": {
        "id": "h4xcSHs74Elo"
      },
      "source": [
        "# (Try to) multiply the output of 'hello_noreturn()' with 2 --- error case\n",
        "hello_noreturn() * 2"
      ],
      "execution_count": null,
      "outputs": []
    },
    {
      "cell_type": "code",
      "metadata": {
        "id": "9noKGgy14Klw"
      },
      "source": [
        "def run():\n",
        "  for x in range(10):\n",
        "     if x == 2:\n",
        "       return\n",
        "  print(\"Run!\") # this statement not executed. Why?\n",
        "  \n",
        "run()"
      ],
      "execution_count": null,
      "outputs": []
    },
    {
      "cell_type": "code",
      "metadata": {
        "id": "UPPDhc524hNM",
        "colab": {
          "base_uri": "https://localhost:8080/"
        },
        "outputId": "8f7a6d0c-9e3e-4a19-de05-9061b6f01e95"
      },
      "source": [
        "# Define 'plus()'\n",
        "def plus(a,b):\n",
        "  sum = a + b\n",
        "  return (sum, a)\n",
        "\n",
        "# Call 'plus()' and unpack variables \n",
        "sum, a = plus(3,4)\n",
        "\n",
        "# Print 'sum()'\n",
        "print(sum)"
      ],
      "execution_count": null,
      "outputs": [
        {
          "output_type": "stream",
          "text": [
            "7\n"
          ],
          "name": "stdout"
        }
      ]
    },
    {
      "cell_type": "markdown",
      "metadata": {
        "id": "DDpZ1lEy5FVU"
      },
      "source": [
        "### Function Arguments"
      ]
    },
    {
      "cell_type": "code",
      "metadata": {
        "id": "iwgeN0A_4uy6",
        "colab": {
          "base_uri": "https://localhost:8080/"
        },
        "outputId": "40989242-56a8-431a-eb9d-7a93ec468d08"
      },
      "source": [
        "# Define 'plus()' function\n",
        "def plus(a,b = 2): # default argument for b\n",
        "  return a + b\n",
        "  \n",
        "# Call 'plus()' with only 'a' parameter\n",
        "plus(a=1)\n",
        "\n",
        "# Call 'plus()' with 'a' and 'b' parameters\n",
        "plus(a=1, b=3)"
      ],
      "execution_count": null,
      "outputs": [
        {
          "output_type": "execute_result",
          "data": {
            "text/plain": [
              "4"
            ]
          },
          "metadata": {
            "tags": []
          },
          "execution_count": 66
        }
      ]
    },
    {
      "cell_type": "code",
      "metadata": {
        "id": "CPhDzjLs6hfL"
      },
      "source": [
        "class Employee:\n",
        "  def __init__ (self, first,last):\n",
        "    self.first = first\n",
        "    self.last = last\n",
        "  def FullName(self):\n",
        "    return self.first,self.last"
      ],
      "execution_count": null,
      "outputs": []
    },
    {
      "cell_type": "code",
      "metadata": {
        "id": "CnAgYrH2686G"
      },
      "source": [
        "emp1 = Employee('Andrew','Moore')"
      ],
      "execution_count": null,
      "outputs": []
    },
    {
      "cell_type": "code",
      "metadata": {
        "colab": {
          "base_uri": "https://localhost:8080/"
        },
        "id": "nG3UWjgw7UFX",
        "outputId": "fec6b287-8b50-403c-dc4f-850d40530403"
      },
      "source": [
        "print(emp1.FullName()) "
      ],
      "execution_count": null,
      "outputs": [
        {
          "output_type": "stream",
          "text": [
            "('Andrew', 'Moore')\n"
          ],
          "name": "stdout"
        }
      ]
    },
    {
      "cell_type": "code",
      "metadata": {
        "id": "hHtwRuST5Dxl"
      },
      "source": [
        "# a and b are required arguments\n",
        "\n",
        "def plus(a,b):\n",
        "  return a + b"
      ],
      "execution_count": null,
      "outputs": []
    },
    {
      "cell_type": "code",
      "metadata": {
        "id": "C7eZXR6t5ffn",
        "colab": {
          "base_uri": "https://localhost:8080/",
          "height": 317
        },
        "outputId": "b18f6de7-8a51-4090-f534-2f7ca9fbf8d1"
      },
      "source": [
        "# variable number of arguments\n",
        "\n",
        "def plus(*args):\n",
        "  return sum(args)\n",
        "\n",
        "# Calculate the sum\n",
        "plus(1,4,5)"
      ],
      "execution_count": null,
      "outputs": [
        {
          "output_type": "error",
          "ename": "TypeError",
          "evalue": "ignored",
          "traceback": [
            "\u001b[0;31m---------------------------------------------------------------------------\u001b[0m",
            "\u001b[0;31mTypeError\u001b[0m                                 Traceback (most recent call last)",
            "\u001b[0;32m<ipython-input-68-e9440129abe2>\u001b[0m in \u001b[0;36m<module>\u001b[0;34m()\u001b[0m\n\u001b[1;32m      5\u001b[0m \u001b[0;34m\u001b[0m\u001b[0m\n\u001b[1;32m      6\u001b[0m \u001b[0;31m# Calculate the sum\u001b[0m\u001b[0;34m\u001b[0m\u001b[0;34m\u001b[0m\u001b[0;34m\u001b[0m\u001b[0m\n\u001b[0;32m----> 7\u001b[0;31m \u001b[0mplus\u001b[0m\u001b[0;34m(\u001b[0m\u001b[0;36m1\u001b[0m\u001b[0;34m,\u001b[0m\u001b[0;36m4\u001b[0m\u001b[0;34m,\u001b[0m\u001b[0;36m5\u001b[0m\u001b[0;34m)\u001b[0m\u001b[0;34m\u001b[0m\u001b[0;34m\u001b[0m\u001b[0m\n\u001b[0m",
            "\u001b[0;32m<ipython-input-68-e9440129abe2>\u001b[0m in \u001b[0;36mplus\u001b[0;34m(*args)\u001b[0m\n\u001b[1;32m      2\u001b[0m \u001b[0;34m\u001b[0m\u001b[0m\n\u001b[1;32m      3\u001b[0m \u001b[0;32mdef\u001b[0m \u001b[0mplus\u001b[0m\u001b[0;34m(\u001b[0m\u001b[0;34m*\u001b[0m\u001b[0margs\u001b[0m\u001b[0;34m)\u001b[0m\u001b[0;34m:\u001b[0m\u001b[0;34m\u001b[0m\u001b[0;34m\u001b[0m\u001b[0m\n\u001b[0;32m----> 4\u001b[0;31m   \u001b[0;32mreturn\u001b[0m \u001b[0msum\u001b[0m\u001b[0;34m(\u001b[0m\u001b[0margs\u001b[0m\u001b[0;34m)\u001b[0m\u001b[0;34m\u001b[0m\u001b[0;34m\u001b[0m\u001b[0m\n\u001b[0m\u001b[1;32m      5\u001b[0m \u001b[0;34m\u001b[0m\u001b[0m\n\u001b[1;32m      6\u001b[0m \u001b[0;31m# Calculate the sum\u001b[0m\u001b[0;34m\u001b[0m\u001b[0;34m\u001b[0m\u001b[0;34m\u001b[0m\u001b[0m\n",
            "\u001b[0;31mTypeError\u001b[0m: 'int' object is not callable"
          ]
        }
      ]
    },
    {
      "cell_type": "markdown",
      "metadata": {
        "id": "NucBFYCm5IPX"
      },
      "source": [
        "### Exercise:\n",
        "Create a function to check whether the given number is even or odd "
      ]
    },
    {
      "cell_type": "code",
      "metadata": {
        "id": "HMeIzga85IPa",
        "colab": {
          "base_uri": "https://localhost:8080/"
        },
        "outputId": "4ef9a814-eb65-46a8-8904-5f94a94e8e46"
      },
      "source": [
        "# Type your soultion here\n",
        "def evenorodd(number):\n",
        "  if number %2 == 0:\n",
        "    print('numebr is even')\n",
        "  else:\n",
        "    print('Number is odd')\n",
        "\n",
        "evenorodd(4)"
      ],
      "execution_count": null,
      "outputs": [
        {
          "output_type": "stream",
          "text": [
            "numebr is even\n"
          ],
          "name": "stdout"
        }
      ]
    },
    {
      "cell_type": "markdown",
      "metadata": {
        "id": "ZYQ-H0z-5Iiz"
      },
      "source": [
        "### Exercise:\n",
        "Create a function that returns the absolute value of the entered number."
      ]
    },
    {
      "cell_type": "code",
      "metadata": {
        "id": "JiS1C_Nm5Ii0",
        "colab": {
          "base_uri": "https://localhost:8080/"
        },
        "outputId": "ab7807e2-0f0f-4830-f6f8-fc278dda910f"
      },
      "source": [
        "# Type your soultion here\n",
        "def absolutevalue(number):\n",
        "  return abs(number)\n",
        "\n",
        "absolutevalue(-5)"
      ],
      "execution_count": null,
      "outputs": [
        {
          "output_type": "execute_result",
          "data": {
            "text/plain": [
              "5"
            ]
          },
          "metadata": {
            "tags": []
          },
          "execution_count": 73
        }
      ]
    },
    {
      "cell_type": "markdown",
      "metadata": {
        "id": "Rzsba9PDIwoF"
      },
      "source": [
        "## Lists"
      ]
    },
    {
      "cell_type": "code",
      "metadata": {
        "id": "QiPWmNSwJR70",
        "colab": {
          "base_uri": "https://localhost:8080/"
        },
        "outputId": "085689cd-3fd9-44ed-8a70-fcc741e0beff"
      },
      "source": [
        "# Examples\n",
        "\n",
        "num = [1, 2]\n",
        "print(num)\n",
        "\n",
        "letter = ['a', 'b', 'c']\n",
        "print(letter)\n",
        "\n",
        "mix = [1, \"a\", 2, \"b\"]\n",
        "print(mix)\n",
        "\n",
        "mix1 = [[1, 2], [\"a\", \"b\", \"c\"]]\n",
        "mix2 = [num, letter]\n",
        "print(mix1)\n",
        "print(mix2)\n",
        "\n",
        "# type of list\n",
        "print(type(num))\n",
        "print(type(mix2))"
      ],
      "execution_count": null,
      "outputs": [
        {
          "output_type": "stream",
          "text": [
            "[1, 2]\n",
            "['a', 'b', 'c']\n",
            "[1, 'a', 2, 'b']\n",
            "[[1, 2], ['a', 'b', 'c']]\n",
            "[[1, 2], ['a', 'b', 'c']]\n",
            "<class 'list'>\n",
            "<class 'list'>\n"
          ],
          "name": "stdout"
        }
      ]
    },
    {
      "cell_type": "markdown",
      "metadata": {
        "id": "oRaVg2Ecj6up"
      },
      "source": [
        "### Exercise: \n",
        "\n",
        "print the sum of the given list."
      ]
    },
    {
      "cell_type": "code",
      "metadata": {
        "id": "szH5vVi-j6uq",
        "colab": {
          "base_uri": "https://localhost:8080/"
        },
        "outputId": "f98472ee-887d-448f-89ca-1280c827c2dc"
      },
      "source": [
        "list3 = [1,3,4,54,100]\n",
        "total = 0\n",
        "for x in range(0,len(list3)):\n",
        "  total = total + list3[x]\n",
        "\n",
        "print(total)"
      ],
      "execution_count": null,
      "outputs": [
        {
          "output_type": "stream",
          "text": [
            "162\n"
          ],
          "name": "stdout"
        }
      ]
    },
    {
      "cell_type": "code",
      "metadata": {
        "id": "1MzSHQT5sBnC"
      },
      "source": [
        ""
      ],
      "execution_count": null,
      "outputs": []
    },
    {
      "cell_type": "markdown",
      "metadata": {
        "id": "UO91hehVJ9Lk"
      },
      "source": [
        "### Subsetting lists"
      ]
    },
    {
      "cell_type": "code",
      "metadata": {
        "id": "Ety5a-YGJ8eT",
        "colab": {
          "base_uri": "https://localhost:8080/"
        },
        "outputId": "aa96baa0-4ff5-4f01-d93f-5d704ba051cb"
      },
      "source": [
        "mylist = [\"hi\", 0.05, 4, \"hello\", 22, 10.78, \"abc\"]\n",
        "\n",
        "print(mylist[1])\n",
        "\n",
        "print(mylist[6]) # same as the next\n",
        "print(mylist[-1])\n",
        "\n",
        "print(mylist[-3])"
      ],
      "execution_count": null,
      "outputs": [
        {
          "output_type": "stream",
          "text": [
            "0.05\n",
            "abc\n",
            "abc\n",
            "22\n"
          ],
          "name": "stdout"
        }
      ]
    },
    {
      "cell_type": "markdown",
      "metadata": {
        "id": "Ze5ymAxdLQKe"
      },
      "source": [
        "### List Slicing"
      ]
    },
    {
      "cell_type": "code",
      "metadata": {
        "colab": {
          "base_uri": "https://localhost:8080/"
        },
        "id": "vLNtRwcaLT54",
        "outputId": "12a2b7f2-3406-4125-9687-29d3943fcc4a"
      },
      "source": [
        "mylist = [\"hi\", 0.05, 4, \"hello\", 22, 10.78, \"abc\"]\n",
        "\n",
        "print(mylist[1:4])\n",
        "print(mylist[3:5])\n",
        "\n",
        "print(mylist[:4])\n",
        "print(mylist[2:])\n",
        "\n",
        "print(mylist[::-1])"
      ],
      "execution_count": null,
      "outputs": [
        {
          "output_type": "stream",
          "text": [
            "[0.05, 4, 'hello']\n",
            "['hello', 22]\n",
            "['hi', 0.05, 4, 'hello']\n",
            "[4, 'hello', 22, 10.78, 'abc']\n",
            "['abc', 10.78, 22, 'hello', 4, 0.05, 'hi']\n"
          ],
          "name": "stdout"
        }
      ]
    },
    {
      "cell_type": "markdown",
      "metadata": {
        "id": "qvpbqtU1OHGX"
      },
      "source": [
        "### Changing list elements"
      ]
    },
    {
      "cell_type": "code",
      "metadata": {
        "colab": {
          "base_uri": "https://localhost:8080/"
        },
        "id": "WOpCVYjCONub",
        "outputId": "f8a1e07d-1116-410d-fbe0-bc02636bb098"
      },
      "source": [
        "mylist = [\"hi\", 0.05, 4, \"hello\", 22, 10.78, \"abc\"]\n",
        "\n",
        "mylist[2] = 28\n",
        "print(mylist)\n",
        "\n",
        "mylist[1:3] = [0.08, 56]\n",
        "print(mylist)\n",
        "\n",
        "newlist = mylist + ['extra', 'elements']\n",
        "print(newlist)\n",
        "\n",
        "del newlist[7]\n",
        "print(newlist)"
      ],
      "execution_count": null,
      "outputs": [
        {
          "output_type": "execute_result",
          "data": {
            "text/plain": [
              "['hi', 0.08, 56, 'hello', 22, 10.78, 'abc', 'elements']"
            ]
          },
          "metadata": {
            "tags": []
          },
          "execution_count": 5
        }
      ]
    },
    {
      "cell_type": "markdown",
      "metadata": {
        "id": "_zWTxH3QSO2f"
      },
      "source": [
        "### Built-in functions/methods for lists"
      ]
    },
    {
      "cell_type": "code",
      "metadata": {
        "id": "vaQ8d4bhPneN",
        "colab": {
          "base_uri": "https://localhost:8080/"
        },
        "outputId": "9a82fb3b-dbe1-48cb-e2ee-0903a3cb2688"
      },
      "source": [
        "num = [1, 2]\n",
        "print(num)\n",
        "\n",
        "num.append(3)\n",
        "print(num)\n",
        "\n",
        "letter = ['a', 'b', 'c']\n",
        "letter = letter + ['d'] # brute force\n",
        "letter\n",
        "\n",
        "num.extend(letter)\n",
        "print(num)\n",
        "\n",
        "num.insert(1, 'x')\n",
        "print(num)\n",
        "\n",
        "# what's the difference between append and extend?"
      ],
      "execution_count": null,
      "outputs": [
        {
          "output_type": "stream",
          "text": [
            "[1, 2]\n",
            "[1, 2, 3]\n",
            "[1, 2, 3, 'a', 'b', 'c', 'd']\n",
            "[1, 'x', 2, 3, 'a', 'b', 'c', 'd']\n"
          ],
          "name": "stdout"
        }
      ]
    },
    {
      "cell_type": "code",
      "metadata": {
        "id": "VUj-cGEyQB7r"
      },
      "source": [
        "num.insert(2, 'x')\n",
        "print(num)\n",
        "\n",
        "num.remove('x')\n",
        "print(num)"
      ],
      "execution_count": null,
      "outputs": []
    },
    {
      "cell_type": "code",
      "metadata": {
        "id": "oJ-VvBQrQOwC"
      },
      "source": [
        "num = [1, 2, 3]\n",
        "letter = [\"a\", \"b\", \"c\"]\n",
        "\n",
        "mix = num + letter\n",
        "\n",
        "num.sort()\n",
        "print(num)\n",
        "\n",
        "letter.sort()\n",
        "print(letter)\n",
        "\n",
        "mix.sort() #error case\n",
        "print(mix)"
      ],
      "execution_count": null,
      "outputs": []
    },
    {
      "cell_type": "code",
      "metadata": {
        "id": "jdj2r-hrSSPH",
        "colab": {
          "base_uri": "https://localhost:8080/",
          "height": 249
        },
        "outputId": "0d99d459-405e-4aba-82a6-2bbfa8be47f5"
      },
      "source": [
        "x = [2, 40, 21, 5, 103]\n",
        "\n",
        "print(len(x))\n",
        "print(min(x))\n",
        "print(max(x))\n",
        "print(sum(x))"
      ],
      "execution_count": null,
      "outputs": [
        {
          "output_type": "stream",
          "text": [
            "5\n",
            "2\n",
            "103\n"
          ],
          "name": "stdout"
        },
        {
          "output_type": "error",
          "ename": "TypeError",
          "evalue": "ignored",
          "traceback": [
            "\u001b[0;31m---------------------------------------------------------------------------\u001b[0m",
            "\u001b[0;31mTypeError\u001b[0m                                 Traceback (most recent call last)",
            "\u001b[0;32m<ipython-input-99-f2d88e4773ae>\u001b[0m in \u001b[0;36m<module>\u001b[0;34m()\u001b[0m\n\u001b[1;32m      4\u001b[0m \u001b[0mprint\u001b[0m\u001b[0;34m(\u001b[0m\u001b[0mmin\u001b[0m\u001b[0;34m(\u001b[0m\u001b[0mx\u001b[0m\u001b[0;34m)\u001b[0m\u001b[0;34m)\u001b[0m\u001b[0;34m\u001b[0m\u001b[0;34m\u001b[0m\u001b[0m\n\u001b[1;32m      5\u001b[0m \u001b[0mprint\u001b[0m\u001b[0;34m(\u001b[0m\u001b[0mmax\u001b[0m\u001b[0;34m(\u001b[0m\u001b[0mx\u001b[0m\u001b[0;34m)\u001b[0m\u001b[0;34m)\u001b[0m\u001b[0;34m\u001b[0m\u001b[0;34m\u001b[0m\u001b[0m\n\u001b[0;32m----> 6\u001b[0;31m \u001b[0mprint\u001b[0m\u001b[0;34m(\u001b[0m\u001b[0msum\u001b[0m\u001b[0;34m(\u001b[0m\u001b[0mx\u001b[0m\u001b[0;34m)\u001b[0m\u001b[0;34m)\u001b[0m\u001b[0;34m\u001b[0m\u001b[0;34m\u001b[0m\u001b[0m\n\u001b[0m",
            "\u001b[0;31mTypeError\u001b[0m: 'int' object is not callable"
          ]
        }
      ]
    },
    {
      "cell_type": "markdown",
      "metadata": {
        "id": "cD-HUcDnSebe"
      },
      "source": [
        "### Exercise:\n",
        "\n",
        "Calculate and display the mean of the following list - [2, 40, 21, 5, 103]"
      ]
    },
    {
      "cell_type": "code",
      "metadata": {
        "id": "k4rUGVe5TN9l",
        "colab": {
          "base_uri": "https://localhost:8080/"
        },
        "outputId": "075d1a81-fb2f-46ab-e487-ed158a59cd23"
      },
      "source": [
        "# # Type your soultion here\n",
        "import numpy as np\n",
        "list4 = [2,40,21,6,103]\n",
        "np.mean(list4)"
      ],
      "execution_count": null,
      "outputs": [
        {
          "output_type": "execute_result",
          "data": {
            "text/plain": [
              "34.4"
            ]
          },
          "metadata": {
            "tags": []
          },
          "execution_count": 100
        }
      ]
    },
    {
      "cell_type": "markdown",
      "metadata": {
        "id": "XI1ctnC5Hlpg"
      },
      "source": [
        "### Exercise\n",
        "\n",
        "Write a python function that takes the list [1, 2, 2, 3, 3, 4, 5, 5, 5, 5, 7, 7, 7, 9] as input and returns another list with only unique elements from the input list.\n",
        "\n",
        "Example - \n",
        "\n",
        "          input - [1, 2, 2, 3, 3, 4, 5, 5, 5, 5, 7, 7, 7, 9]\n",
        "\n",
        "          output - [1, 2, 3, 4, 5, 7, 9]"
      ]
    },
    {
      "cell_type": "code",
      "metadata": {
        "id": "s4VTQxsTHoVP",
        "colab": {
          "base_uri": "https://localhost:8080/"
        },
        "outputId": "45fa8f6e-e2e3-4b26-cccc-dc8ec7fb9a9b"
      },
      "source": [
        "# # Type solution here\n",
        "\n",
        "input = [1,2,2,3,3,4,5,5,5,7,7,7,9]\n",
        "list5= []\n",
        "for x in input:\n",
        "  if x not in list5:\n",
        "    list5.append(x)\n",
        "\n",
        "print(list5)"
      ],
      "execution_count": null,
      "outputs": [
        {
          "output_type": "stream",
          "text": [
            "[1, 2, 3, 4, 5, 7, 9]\n"
          ],
          "name": "stdout"
        }
      ]
    },
    {
      "cell_type": "markdown",
      "metadata": {
        "id": "N8K17DC0JpsN"
      },
      "source": [
        "### Todo:\n",
        "\n",
        "Explore the different methods available for list manipulation and try out different methods."
      ]
    },
    {
      "cell_type": "markdown",
      "metadata": {
        "id": "pSpyQuSiIyAt"
      },
      "source": [
        "## Dictionaries"
      ]
    },
    {
      "cell_type": "code",
      "metadata": {
        "id": "ctw0Q8iWJAVu",
        "colab": {
          "base_uri": "https://localhost:8080/"
        },
        "outputId": "e834100e-c77b-4937-dec8-fdd3ed5f1a40"
      },
      "source": [
        "foodMenu = {'Pizza': 12, 'Burger': 8, 'Biryani': 15, 'Hot Dog': 5, 'Sandwich': 7}\n",
        "\n",
        "print(foodMenu.keys())\n",
        "print(foodMenu.values())\n",
        "print(foodMenu.items())"
      ],
      "execution_count": null,
      "outputs": [
        {
          "output_type": "stream",
          "text": [
            "dict_keys(['Pizza', 'Burger', 'Biryani', 'Hot Dog', 'Sandwich'])\n",
            "dict_values([12, 8, 15, 5, 7])\n",
            "dict_items([('Pizza', 12), ('Burger', 8), ('Biryani', 15), ('Hot Dog', 5), ('Sandwich', 7)])\n"
          ],
          "name": "stdout"
        }
      ]
    },
    {
      "cell_type": "markdown",
      "metadata": {
        "id": "qKm4kD8vVOGq"
      },
      "source": [
        "### Accessing elements of dictionary"
      ]
    },
    {
      "cell_type": "code",
      "metadata": {
        "id": "VaiAClxRrCTw",
        "colab": {
          "base_uri": "https://localhost:8080/"
        },
        "outputId": "8e7843f2-01ee-435b-edd2-8651b94ddd73"
      },
      "source": [
        "foodMenu = {'Pizza': 12, 'Burger': 8, 'Biryani': 15, 'Hot Dog': 5, 'Sandwich': 7}\n",
        "\n",
        "print(foodMenu['Burger'])\n",
        "\n",
        "# print(foodMenu[1]) #error case"
      ],
      "execution_count": null,
      "outputs": [
        {
          "output_type": "stream",
          "text": [
            "8\n"
          ],
          "name": "stdout"
        }
      ]
    },
    {
      "cell_type": "code",
      "metadata": {
        "id": "8GaYQbkXrCT0",
        "colab": {
          "base_uri": "https://localhost:8080/"
        },
        "outputId": "cf8756ad-59cb-40a5-b0ca-07d9dbd81f14"
      },
      "source": [
        "foodMenu = {'Pizza': 12, 'Burger': 8, 'Biryani': 15, 'Hot Dog': 5, 'Sandwich': 7}\n",
        "\n",
        "for food in foodMenu.keys():\n",
        "  print(food)\n",
        "\n",
        "# for price in foodMenu.values():\n",
        "#   print(price)\n",
        "\n",
        "# for foodItem in foodMenu.items():\n",
        "#   print(foodItem)"
      ],
      "execution_count": null,
      "outputs": [
        {
          "output_type": "stream",
          "text": [
            "Pizza\n",
            "Burger\n",
            "Biryani\n",
            "Hot Dog\n",
            "Sandwich\n"
          ],
          "name": "stdout"
        }
      ]
    },
    {
      "cell_type": "markdown",
      "metadata": {
        "id": "R06n5R9wrCT1"
      },
      "source": [
        "### Adding elements"
      ]
    },
    {
      "cell_type": "code",
      "metadata": {
        "id": "dtmRYWVtrCT1",
        "colab": {
          "base_uri": "https://localhost:8080/"
        },
        "outputId": "77ee2a99-e39c-43b1-d8da-8c9f9507d160"
      },
      "source": [
        "foodMenu = {'Pizza': 12, 'Burger': 8, 'Biryani': 15, 'Hot Dog': 5, 'Sandwich': 7}\n",
        "\n",
        "foodMenu['Soup'] = 6\n",
        "print(foodMenu)\n",
        "\n",
        "foodMenu['Burger'] = 9\n",
        "print(foodMenu)"
      ],
      "execution_count": null,
      "outputs": [
        {
          "output_type": "stream",
          "text": [
            "{'Pizza': 12, 'Burger': 8, 'Biryani': 15, 'Hot Dog': 5, 'Sandwich': 7, 'Soup': 6}\n",
            "{'Pizza': 12, 'Burger': 9, 'Biryani': 15, 'Hot Dog': 5, 'Sandwich': 7, 'Soup': 6}\n"
          ],
          "name": "stdout"
        }
      ]
    },
    {
      "cell_type": "code",
      "metadata": {
        "id": "NTEb04rRVsuH",
        "colab": {
          "base_uri": "https://localhost:8080/"
        },
        "outputId": "95a05887-78ba-4183-cf99-cc6f000ae595"
      },
      "source": [
        "mylist1 = [8, 12]\n",
        "mylist2 = [12, 8]\n",
        "\n",
        "print(mylist1 == mylist2)\n",
        "\n",
        "myDict1 = {'Pizza':12, 'Burger': 8}\n",
        "myDict2 = {'Burger': 8, 'Pizza':12}\n",
        "\n",
        "print(myDict1 == myDict2)\n",
        "\n",
        "# Comment on the order of elements"
      ],
      "execution_count": null,
      "outputs": [
        {
          "output_type": "stream",
          "text": [
            "False\n",
            "True\n"
          ],
          "name": "stdout"
        }
      ]
    },
    {
      "cell_type": "markdown",
      "metadata": {
        "id": "zL-mBkyEowlA"
      },
      "source": [
        "### Exercise:\n",
        "\n",
        "Print the length of the foodMenu Dictionary\n",
        "\n",
        "Insert key,value (Brownie,14) pair into dictionary\n",
        "\n",
        "Print the updated dictionary\n",
        "\n",
        "Print the length of the updated foodMenu Dictionary"
      ]
    },
    {
      "cell_type": "code",
      "metadata": {
        "id": "4kOXn3Z2owlN"
      },
      "source": [
        "foodMenu = {'Pizza': 12, 'Burger': 8, 'Biryani': 15, 'Hot Dog': 5, 'Sandwich': 7}\n",
        "# Type your Solution here:\n"
      ],
      "execution_count": null,
      "outputs": []
    },
    {
      "cell_type": "markdown",
      "metadata": {
        "id": "k5iVqA_CWPZ9"
      },
      "source": [
        "## Modules"
      ]
    },
    {
      "cell_type": "code",
      "metadata": {
        "id": "07xk9IgVWUeQ"
      },
      "source": [
        "# general format\n",
        "\n",
        "# import moduleName\n",
        "# moduleName.functionName -- to use the functions and methods of the module"
      ],
      "execution_count": null,
      "outputs": []
    },
    {
      "cell_type": "code",
      "metadata": {
        "id": "TL3B9J1mKSr7"
      },
      "source": [
        "# do not run this cell\n",
        "# Python Module example - try in a local environment (PyCharm)\n",
        "# create a file called example.py, add the below code and save the file.\n",
        "\n",
        "def add(a, b):\n",
        "   \"\"\"This program adds two\n",
        "   numbers and return the result\"\"\"\n",
        "\n",
        "   result = a + b\n",
        "   return result"
      ],
      "execution_count": null,
      "outputs": []
    },
    {
      "cell_type": "code",
      "metadata": {
        "id": "yBQpVqgeKdhl",
        "colab": {
          "base_uri": "https://localhost:8080/",
          "height": 368
        },
        "outputId": "5254254f-2db5-42ab-9fbe-5328777938bb"
      },
      "source": [
        "# do not run this cell\n",
        "# Let us assume you have a file example.py with the above code.\n",
        "# You can import that module using - \n",
        "\n",
        "import example\n",
        "\n",
        "# now you can access the add() function using dot(.) operator as - \n",
        "\n",
        "print(example.add(1, 2))"
      ],
      "execution_count": null,
      "outputs": [
        {
          "output_type": "error",
          "ename": "ModuleNotFoundError",
          "evalue": "ignored",
          "traceback": [
            "\u001b[0;31m---------------------------------------------------------------------------\u001b[0m",
            "\u001b[0;31mModuleNotFoundError\u001b[0m                       Traceback (most recent call last)",
            "\u001b[0;32m<ipython-input-115-ab1b3ceb8adf>\u001b[0m in \u001b[0;36m<module>\u001b[0;34m()\u001b[0m\n\u001b[1;32m      3\u001b[0m \u001b[0;31m# You can import that module using -\u001b[0m\u001b[0;34m\u001b[0m\u001b[0;34m\u001b[0m\u001b[0;34m\u001b[0m\u001b[0m\n\u001b[1;32m      4\u001b[0m \u001b[0;34m\u001b[0m\u001b[0m\n\u001b[0;32m----> 5\u001b[0;31m \u001b[0;32mimport\u001b[0m \u001b[0mexample\u001b[0m\u001b[0;34m\u001b[0m\u001b[0;34m\u001b[0m\u001b[0m\n\u001b[0m\u001b[1;32m      6\u001b[0m \u001b[0;34m\u001b[0m\u001b[0m\n\u001b[1;32m      7\u001b[0m \u001b[0;31m# now you can access the add() function using dot(.) operator as -\u001b[0m\u001b[0;34m\u001b[0m\u001b[0;34m\u001b[0m\u001b[0;34m\u001b[0m\u001b[0m\n",
            "\u001b[0;31mModuleNotFoundError\u001b[0m: No module named 'example'",
            "",
            "\u001b[0;31m---------------------------------------------------------------------------\u001b[0;32m\nNOTE: If your import is failing due to a missing package, you can\nmanually install dependencies using either !pip or !apt.\n\nTo view examples of installing some common dependencies, click the\n\"Open Examples\" button below.\n\u001b[0;31m---------------------------------------------------------------------------\u001b[0m\n"
          ]
        }
      ]
    },
    {
      "cell_type": "code",
      "metadata": {
        "id": "nTwPEuj-Wg95",
        "colab": {
          "base_uri": "https://localhost:8080/"
        },
        "outputId": "d02dd0f8-6f8f-44a4-f885-8f51e034f779"
      },
      "source": [
        "# let us take a look at some simple standard modules python provides\n",
        "import random\n",
        "\n",
        "number = random.randrange(6)\n",
        "print(number)\n",
        "\n",
        "number = random.randrange(6) + 1\n",
        "print(number)"
      ],
      "execution_count": null,
      "outputs": [
        {
          "output_type": "stream",
          "text": [
            "1\n",
            "3\n"
          ],
          "name": "stdout"
        }
      ]
    },
    {
      "cell_type": "code",
      "metadata": {
        "id": "Zp-c8fJzLdqh",
        "colab": {
          "base_uri": "https://localhost:8080/"
        },
        "outputId": "f19e4d69-e4a5-4d77-92a1-60454faff22d"
      },
      "source": [
        "import math\n",
        "print(\"The value of pi is\", math.pi)"
      ],
      "execution_count": null,
      "outputs": [
        {
          "output_type": "stream",
          "text": [
            "The value of pi is 3.141592653589793\n"
          ],
          "name": "stdout"
        }
      ]
    },
    {
      "cell_type": "code",
      "metadata": {
        "id": "bS5thkCoLkhN",
        "colab": {
          "base_uri": "https://localhost:8080/"
        },
        "outputId": "9465fafb-9bc3-4740-d7c7-6cbb0ca7b1bc"
      },
      "source": [
        "# import a module with renaming\n",
        "\n",
        "import math as m\n",
        "print(\"The value of pi is\", m.pi)"
      ],
      "execution_count": null,
      "outputs": [
        {
          "output_type": "stream",
          "text": [
            "The value of pi is 3.141592653589793\n"
          ],
          "name": "stdout"
        }
      ]
    },
    {
      "cell_type": "code",
      "metadata": {
        "id": "TNM5hyBuLq0f",
        "colab": {
          "base_uri": "https://localhost:8080/"
        },
        "outputId": "2ad90869-b740-4c11-e281-659189a92692"
      },
      "source": [
        "# We can import specific names from a module without importing the module as a whole\n",
        "\n",
        "from math import pi\n",
        "print(\"The value of pi is\", pi)"
      ],
      "execution_count": null,
      "outputs": [
        {
          "output_type": "stream",
          "text": [
            "The value of pi is 3.141592653589793\n"
          ],
          "name": "stdout"
        }
      ]
    },
    {
      "cell_type": "code",
      "metadata": {
        "id": "37RNz_4iLz91",
        "colab": {
          "base_uri": "https://localhost:8080/"
        },
        "outputId": "3e2d799a-bedd-4886-bc64-dfff4531433f"
      },
      "source": [
        "# import all methods and names\n",
        "\n",
        "from math import *\n",
        "print(\"The value of pi is\", pi)\n",
        "\n",
        "# We will explore more modules in the following weeks"
      ],
      "execution_count": null,
      "outputs": [
        {
          "output_type": "stream",
          "text": [
            "The value of pi is 3.141592653589793\n"
          ],
          "name": "stdout"
        }
      ]
    }
  ]
}