{
  "nbformat": 4,
  "nbformat_minor": 0,
  "metadata": {
    "colab": {
      "name": "Python Packages - NumPy (Student copy).ipynb",
      "provenance": [],
      "collapsed_sections": [],
      "toc_visible": true
    },
    "kernelspec": {
      "name": "python3",
      "display_name": "Python 3"
    }
  },
  "cells": [
    {
      "cell_type": "markdown",
      "metadata": {
        "id": "6gQPdaB8Pgvc"
      },
      "source": [
        "Packages are code collections (written and shared by many in the community).\n",
        "\n",
        "Packages have multiple scripts within them. Each script is called a module.\n",
        "\n",
        "Some packages that we will be using - \n",
        "\n",
        "*   **NumPy** - for scientific computing\n",
        "\n",
        "*   **Pandas** - provides fast, flexible and expressive data structures designed to make working with “relational” or “labeled” data both easy and intuitive. It aims to be the fundamental high-level building block for doing practical, real-world data analysis in Python.\n",
        "\n",
        "*   **Matplotlib** - used to create static, animated, and interactive visualizations in Python\n",
        "\n",
        "*   **Scikit-learn** - Machine Learning. Supports supervised and unsupervised learning. It also provides various tools for model fitting, data preprocessing, model selection and evaluation, and many other utilities.\n",
        "\n",
        "\n",
        "\n",
        "\n"
      ]
    },
    {
      "cell_type": "markdown",
      "metadata": {
        "id": "V_hcxGgBR-GT"
      },
      "source": [
        "**Additional notes:**\n",
        "\n",
        "To use packages in Python, if you are using a local environment, you have to first install the package. \n",
        "\n",
        "Once the package is installed, you can use it by importing the package.\n",
        "\n",
        "PIP (package installer for python) is a package used to install other packages. It is available with Python3.\n",
        "\n",
        "Example - To install numpy-> pip install numpy"
      ]
    },
    {
      "cell_type": "markdown",
      "metadata": {
        "id": "nhpF2Tt8R38L"
      },
      "source": [
        "##NumPy"
      ]
    },
    {
      "cell_type": "code",
      "metadata": {
        "id": "m7dElYl1SzEw"
      },
      "source": [
        "# to use numpy, import it. We will be renaming (alias) the package as np.\n",
        "\n",
        "import numpy as np\n",
        "\n",
        "# Once this cell runs, all the functions of numpy will be available throughout the notebook until the runtime environment is reset."
      ],
      "execution_count": null,
      "outputs": []
    },
    {
      "cell_type": "code",
      "metadata": {
        "id": "XrLO5Vo_TF0x"
      },
      "source": [
        "# try this - \n",
        "\n",
        "odds = [1, 3, 5]\n",
        "evens = [2, 4, 6]\n",
        "\n",
        "print(odds + evens)\n",
        "\n",
        "print(odds * evens) # does this work?"
      ],
      "execution_count": null,
      "outputs": []
    },
    {
      "cell_type": "markdown",
      "metadata": {
        "id": "ChsGvqQtTcnE"
      },
      "source": [
        "### Exercise:\n",
        "\n",
        "Multiply the values at the same indices of the odds and evens lists. Display the product."
      ]
    },
    {
      "cell_type": "code",
      "metadata": {
        "id": "EMnuo1IyTXDY"
      },
      "source": [
        "# Type your solution here"
      ],
      "execution_count": null,
      "outputs": []
    },
    {
      "cell_type": "code",
      "metadata": {
        "id": "gcRKicJaT6pj"
      },
      "source": [
        "# Same problem can be solved efficiently with numpy\n",
        "\n",
        "odds = [1, 3, 5]\n",
        "evens = [2, 4, 6]\n",
        "\n",
        "#convert the list to numpy arrays\n",
        "np_odds = np.array(odds)\n",
        "np_evens = np.array(evens)\n",
        "\n",
        "# print(type(np_odds))\n",
        "# print(type(np_evens))\n",
        "\n",
        "product = np_odds * np_evens\n",
        "print(product)\n",
        "\n",
        "print(type(product))\n",
        "\n",
        "# ndarray type refers to n-dimensional arrays"
      ],
      "execution_count": null,
      "outputs": []
    },
    {
      "cell_type": "markdown",
      "metadata": {
        "id": "GcOlik91VUx7"
      },
      "source": [
        "Note: Python lists do not allow for operations on entire list. It allows only element level operations. \n",
        "\n",
        "NumPy on the other hand allows you to work with entire lists by converting them to array format.\n",
        "\n",
        "NumPy arrays comprise of elements of only one type."
      ]
    },
    {
      "cell_type": "code",
      "metadata": {
        "id": "FUFryEyaVslp"
      },
      "source": [
        "# suppose you have a list\n",
        "mylist = [2, 1.0, False, \"hello\"]\n",
        "\n",
        "np_list = np.array(mylist)\n",
        "print(type(np_list))\n",
        "\n",
        "print(np_list) # notice that all elements have been changed to string type"
      ],
      "execution_count": null,
      "outputs": []
    },
    {
      "cell_type": "code",
      "metadata": {
        "id": "QpeZZqEGWtMN"
      },
      "source": [
        "# another example\n",
        "\n",
        "mixed = [1, \"hi\", True]\n",
        "\n",
        "np_mixed = np.array(mixed)\n",
        "\n",
        "print(mixed)\n",
        "print(np_mixed) # what's the difference between mixed and np_mixed?"
      ],
      "execution_count": null,
      "outputs": []
    },
    {
      "cell_type": "code",
      "metadata": {
        "id": "JpUYrb--XFbm"
      },
      "source": [
        "odds = [1, 3, 5, 7]\n",
        "\n",
        "np_odds = np.array(odds)\n",
        "\n",
        "print(type(odds))\n",
        "print(type(np_odds)) # see the difference"
      ],
      "execution_count": null,
      "outputs": []
    },
    {
      "cell_type": "code",
      "metadata": {
        "id": "P11UncMOXQeR"
      },
      "source": [
        "# 2-dimensional np array\n",
        "\n",
        "np_2d = np.array([[1, 3, 4], [2, 4, 6]])\n",
        "\n",
        "print(np_2d)\n",
        "print(np_2d.shape)"
      ],
      "execution_count": null,
      "outputs": []
    },
    {
      "cell_type": "code",
      "metadata": {
        "id": "SN7pDllRXjr2"
      },
      "source": [
        "# indexing and element access\n",
        "\n",
        "print(np_2d[0])\n",
        "\n",
        "print(np_2d[0][2])\n",
        "\n",
        "print(np_2d[0, 2])\n",
        "\n",
        "print(np_2d[:, 1:3])\n",
        "\n",
        "print(np_2d[1, :])"
      ],
      "execution_count": null,
      "outputs": []
    },
    {
      "cell_type": "markdown",
      "metadata": {
        "id": "xE-sDRKMkc8X"
      },
      "source": [
        "### NumPy functions"
      ]
    },
    {
      "cell_type": "code",
      "metadata": {
        "id": "p33ypjzhawaJ"
      },
      "source": [
        "# computing mean - np.mean\n",
        "\n",
        "np_2d = np.array([[1, 3, 4], [2, 4, 6]])\n",
        "\n",
        "print(np.mean(np_2d)) # mean of all elements\n",
        "\n",
        "print(np.mean(np_2d[0])) # mean of elements in 1st row\n",
        "\n",
        "print(np.mean(np_2d[:, 1:3])) # mean of elements between the 1st and 3rd column for all rows"
      ],
      "execution_count": null,
      "outputs": []
    },
    {
      "cell_type": "code",
      "metadata": {
        "id": "FI-iNwXqkm4R"
      },
      "source": [
        "# create an array of numbers from 0 to 9\n",
        "\n",
        "arr = np.arange(10)\n",
        "print(arr)"
      ],
      "execution_count": null,
      "outputs": []
    },
    {
      "cell_type": "code",
      "metadata": {
        "id": "OctUbrtWk9lj"
      },
      "source": [
        "# create array of even numbers from 0 to 9\n",
        "\n",
        "arr = np.arange(0, 10, 2)\n",
        "print(arr)"
      ],
      "execution_count": null,
      "outputs": []
    },
    {
      "cell_type": "code",
      "metadata": {
        "id": "aZ3s385GlLaB"
      },
      "source": [
        "# create a 3x3 boolean array\n",
        "\n",
        "arr = np.full((3, 3), True, dtype=bool)\n",
        "print(arr)\n",
        "\n",
        "# we can also use this -\n",
        "\n",
        "arr = np.ones((3,3), dtype=bool)\n",
        "print(arr)"
      ],
      "execution_count": null,
      "outputs": []
    },
    {
      "cell_type": "code",
      "metadata": {
        "id": "g--TJH8ElmRa"
      },
      "source": [
        "# extract odd numbers from the given array\n",
        "\n",
        "arr = np.array([0, 1, 2, 3, 4, 5, 6, 7, 8, 9])\n",
        "print(arr[arr % 2 == 1])\n",
        "\n",
        "# do the same for even numbers"
      ],
      "execution_count": null,
      "outputs": []
    },
    {
      "cell_type": "code",
      "metadata": {
        "id": "y_rtCjwtlyZT"
      },
      "source": [
        "# replace odd numbers from the above array by -1\n",
        "arr = np.array([0, 1, 2, 3, 4, 5, 6, 7, 8, 9])\n",
        "arr[arr % 2 == 1] = -1\n",
        "print(arr)"
      ],
      "execution_count": null,
      "outputs": []
    },
    {
      "cell_type": "code",
      "metadata": {
        "id": "7_z-ndZ9p8jm"
      },
      "source": [
        "arr = np.arange(10)\n",
        "new_arr = np.where(arr % 2 == 1, -1, arr)\n",
        "print(arr)\n",
        "print(new_arr) # does not replace same array"
      ],
      "execution_count": null,
      "outputs": []
    },
    {
      "cell_type": "code",
      "metadata": {
        "colab": {
          "base_uri": "https://localhost:8080/"
        },
        "id": "lsgEi8EPqF5i",
        "outputId": "7148aad3-7311-442a-f3e9-d734353b7ce2"
      },
      "source": [
        "# convert a 1D array to 2D array\n",
        "arr = np.arange(10)\n",
        "arr.reshape(2, -1) # -1 automatically decides number of columns"
      ],
      "execution_count": null,
      "outputs": [
        {
          "output_type": "execute_result",
          "data": {
            "text/plain": [
              "array([[0, 1, 2, 3, 4],\n",
              "       [5, 6, 7, 8, 9]])"
            ]
          },
          "metadata": {
            "tags": []
          },
          "execution_count": 29
        }
      ]
    },
    {
      "cell_type": "markdown",
      "metadata": {
        "id": "d3_MLIV-qfXU"
      },
      "source": [
        "Todo: explore different numpy functions. Explore vstack, hstack, repeat, resize, etc"
      ]
    },
    {
      "cell_type": "code",
      "metadata": {
        "colab": {
          "base_uri": "https://localhost:8080/"
        },
        "id": "0UmsPtUXqwON",
        "outputId": "a99e2d8b-32aa-46ff-c149-21da63318540"
      },
      "source": [
        "# get indices where array elements are the same\n",
        "a = np.array([1,2,3,2,3,4,3,4,5,6])\n",
        "b = np.array([7,2,10,2,7,4,9,4,9,8])\n",
        "\n",
        "print(np.where(a == b))"
      ],
      "execution_count": null,
      "outputs": [
        {
          "output_type": "stream",
          "text": [
            "(array([1, 3, 5, 7]),)\n"
          ],
          "name": "stdout"
        }
      ]
    },
    {
      "cell_type": "markdown",
      "metadata": {
        "id": "uxI11p_UrObm"
      },
      "source": [
        "### Exercise:\n",
        "Get elements between 1 and 10 (>=1 and < than 10)"
      ]
    },
    {
      "cell_type": "code",
      "metadata": {
        "id": "dBDq7z8crGcC"
      },
      "source": [
        "# get elements between 1 and 10 (>=1 and < than 10)\n",
        "a = np.arange(10)\n",
        "\n",
        "# type solution here"
      ],
      "execution_count": null,
      "outputs": []
    },
    {
      "cell_type": "code",
      "metadata": {
        "id": "GvJ1eXvOrrrv"
      },
      "source": [
        "# generate random number between 1 and 10\n",
        "\n",
        "print(np.random.randint(1, 10, 1))\n",
        "\n",
        "#todo: read about the other methods available as part of the random module"
      ],
      "execution_count": null,
      "outputs": []
    },
    {
      "cell_type": "markdown",
      "metadata": {
        "id": "Ifl1Jj3-bWHj"
      },
      "source": [
        "### Exercise:\n",
        "\n",
        "Create the Rock, Paper, Scissors game with the following output:\n",
        "\n",
        "```\n",
        "rock(r), paper(p), scissors(s)?: x\n",
        "Invalid! Try again\n",
        "```\n",
        "```\n",
        "rock(r), paper(p), scissors(s)?: p\n",
        "You picked paper and the computer picked rock\n",
        "```"
      ]
    },
    {
      "cell_type": "code",
      "metadata": {
        "id": "9L50I1red6He"
      },
      "source": [
        "# type solution here"
      ],
      "execution_count": null,
      "outputs": []
    },
    {
      "cell_type": "markdown",
      "metadata": {
        "id": "u-yQCSb_sQtr"
      },
      "source": [
        "### Exercise:\n",
        "\n",
        "Get the median of the numpy array - [1, 2, 2, 2, 3, 3, 4, 5, 5, 5, 5, 5, 5, 6, 7, 8, 9, 9, 9, 11]\n",
        "\n",
        "\n"
      ]
    },
    {
      "cell_type": "code",
      "metadata": {
        "id": "PizCoiGTsh64"
      },
      "source": [
        "# type solution here"
      ],
      "execution_count": null,
      "outputs": []
    },
    {
      "cell_type": "markdown",
      "metadata": {
        "id": "Ii4vLFzSt7fh"
      },
      "source": [
        "### Exercise:\n",
        "\n",
        "Get the sum of the numpy array \n",
        "\n",
        "\n",
        "\n",
        "```\n",
        "[[1, 2],\n",
        " [3, 4]]\n",
        "```\n",
        "a. get the sum of entire array\n",
        "\n",
        "b. get sum along the rows\n",
        "\n",
        "c. get sum along the columns"
      ]
    },
    {
      "cell_type": "code",
      "metadata": {
        "id": "lYIOolrYuUTR"
      },
      "source": [
        "# type solution here"
      ],
      "execution_count": null,
      "outputs": []
    }
  ]
}